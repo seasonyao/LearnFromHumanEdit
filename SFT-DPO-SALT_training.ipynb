{
 "cells": [
  {
   "cell_type": "code",
   "execution_count": 3,
   "id": "20a80afd-66fc-47f0-ad8a-2d290f3c26ce",
   "metadata": {},
   "outputs": [],
   "source": [
    "!python DPO_trainer.py\n",
    "# !python SFT_trainer.py\n",
    "# !python SALT_trainer.py\n",
    "\n",
    "# TODO adapt the codes to print metrics"
   ]
  },
  {
   "cell_type": "code",
   "execution_count": 6,
   "id": "ca458788-cebc-44e4-aeb8-6adf4007b88d",
   "metadata": {},
   "outputs": [],
   "source": [
    "# from metrics import AutomaticNgramEval, Rouge, AutomaticFactEval\n",
    "\n",
    "# ngram_eval = AutomaticNgramEval()\n",
    "# # factev = AutomaticFactEval()"
   ]
  },
  {
   "cell_type": "code",
   "execution_count": 8,
   "id": "7e10bfc9-1a4c-49d0-8bb9-a6a52db610f4",
   "metadata": {},
   "outputs": [],
   "source": [
    "# global eval_output_record\n",
    "# eval_output_record = {}\n"
   ]
  },
  {
   "cell_type": "code",
   "execution_count": 4,
   "id": "6536d435",
   "metadata": {},
   "outputs": [],
   "source": []
  },
  {
   "cell_type": "code",
   "execution_count": 5,
   "id": "f667c645-ee9f-4741-bedd-613813ba6e83",
   "metadata": {},
   "outputs": [],
   "source": [
    "\n",
    "\n"
   ]
  },
  {
   "cell_type": "code",
   "execution_count": null,
   "id": "b0395494-2760-42a1-86a2-c8dfeae22170",
   "metadata": {},
   "outputs": [],
   "source": [
    "# for key, df in eval_output_record.items():\n",
    "#     df.to_csv(script_args.output_dir + '/' + str(key) + \".csv\", index=False)"
   ]
  },
  {
   "cell_type": "code",
   "execution_count": null,
   "id": "c9cfa700-0e4e-4182-bc17-50a60e3e546c",
   "metadata": {},
   "outputs": [],
   "source": []
  },
  {
   "cell_type": "code",
   "execution_count": null,
   "id": "f172922b-e66f-469b-bd44-cd8694782835",
   "metadata": {},
   "outputs": [],
   "source": []
  }
 ],
 "metadata": {
  "kernelspec": {
   "display_name": "Python 3",
   "language": "python",
   "name": "python3"
  },
  "language_info": {
   "codemirror_mode": {
    "name": "ipython",
    "version": 3
   },
   "file_extension": ".py",
   "mimetype": "text/x-python",
   "name": "python",
   "nbconvert_exporter": "python",
   "pygments_lexer": "ipython3",
   "version": "3.8.18"
  }
 },
 "nbformat": 4,
 "nbformat_minor": 5
}
